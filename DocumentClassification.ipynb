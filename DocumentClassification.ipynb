{
 "cells": [
  {
   "cell_type": "markdown",
   "metadata": {
    "collapsed": true
   },
   "source": [
    "Document Classification"
   ]
  },
  {
   "cell_type": "markdown",
   "metadata": {},
   "source": [
    "<h1>1. Text pre-processing and exploration:</h1>"
   ]
  },
  {
   "cell_type": "code",
   "execution_count": 12,
   "metadata": {
    "collapsed": true
   },
   "outputs": [],
   "source": [
    "path='D:\\\\documents\\\\users\\\\ravedan\\\\Downloads\\\\ohsumed-first-20000-docs'"
   ]
  },
  {
   "cell_type": "code",
   "execution_count": 13,
   "metadata": {
    "collapsed": false
   },
   "outputs": [
    {
     "name": "stdout",
     "output_type": "stream",
     "text": [
      "showing info https://raw.githubusercontent.com/nltk/nltk_data/gh-pages/index.xml\n"
     ]
    }
   ],
   "source": [
    "import os\n",
    "import nltk\n",
    "nltk.download()\n",
    "import sklearn\n",
    "import pandas as pd\n",
    "import numpy as np\n",
    "from nltk.tokenize import sent_tokenize, word_tokenize\n",
    "from nltk.corpus import stopwords\n",
    "from nltk.stem import PorterStemmer\n",
    "from os import listdir\n",
    "from os.path import isfile, join    \n",
    "import sklearn.datasets as sk\n",
    "import matplotlib.pyplot as plt\n",
    "\n"
   ]
  },
  {
   "cell_type": "code",
   "execution_count": 14,
   "metadata": {
    "collapsed": true
   },
   "outputs": [],
   "source": [
    "dirpath=path\n",
    "trainDirs=[]\n",
    "testDirs=[]\n",
    "trainFiles=[]\n",
    "testFiles=[]\n",
    "# for table\n",
    "Category=[]\n",
    "FileName=[]\n",
    "Path=[]\n",
    "Text=[]\n",
    "classNumOfDocs=[]\n",
    "trainInfo=[] #[fileName,cleanText,class\n",
    "testInfo=[]\n",
    "\n",
    "stopWords=(stopwords.words('english'))\n",
    "stopWords += {',','.',':',';','(',')','{','}','[',']','patients','+/-','may'}"
   ]
  },
  {
   "cell_type": "code",
   "execution_count": 15,
   "metadata": {
    "collapsed": true
   },
   "outputs": [],
   "source": [
    "# get train and test dirs\n",
    "trainDirs=os.listdir(dirpath+'\\\\training')\n",
    "testDirs=os.listdir(dirpath+'\\\\test')"
   ]
  },
  {
   "cell_type": "code",
   "execution_count": 16,
   "metadata": {
    "collapsed": true
   },
   "outputs": [],
   "source": [
    "# pre-process\n",
    "def cleanText(text):\n",
    "    # tokenize\n",
    "    tokenized = word_tokenize(text)\n",
    "    # remove stop words\n",
    "    filtered_sentence = [w for w in tokenized if not w in stopWords]\n",
    "    filtered_sentence = [w for w in filtered_sentence if len(w)>1]\n",
    "    # stemming\n",
    "    ps = PorterStemmer()\n",
    "    for i in range(len(filtered_sentence)-1):\n",
    "        try:\n",
    "            filtered_sentence[i] = ps.stem(filtered_sentence[i])\n",
    "        except Exception as inst:\n",
    "            filtered_sentence[i]=filtered_sentence[i]\n",
    "    # remove stop words after stem\n",
    "    filtered_sentence = [w for w in filtered_sentence if not w in stopWords]\n",
    "    filtered_sentence = [w for w in filtered_sentence if len(w)>1]\n",
    "    return \" \".join(filtered_sentence)"
   ]
  },
  {
   "cell_type": "code",
   "execution_count": 17,
   "metadata": {
    "collapsed": false
   },
   "outputs": [],
   "source": [
    "\n",
    "\n",
    "# get train and test dirs\n",
    "for dir in trainDirs:\n",
    "    for file in os.listdir(dirpath+'\\\\training\\\\'+dir):\n",
    "        trainFiles.append(file)\n",
    "        Category.append(dir)\n",
    "        FileName.append(file)\n",
    "        Path.append(dirpath+'\\\\training\\\\'+dir+'\\\\'+file)\n",
    "        # Open a file: fileReader\n",
    "        fileReader = open(dirpath+'\\\\training\\\\'+dir+'\\\\'+file,mode='r')\n",
    "        # read all lines at once\n",
    "        text = fileReader.read().lower()\n",
    "        # close the file\n",
    "        fileReader.close()\n",
    "\n",
    "        cleanedText=cleanText(text)\n",
    "        trainInfo.append([file,cleanedText,dir,'training'])\n",
    "\n",
    "for dir in testDirs:\n",
    "    for file in os.listdir(dirpath+'\\\\test\\\\'+dir):\n",
    "        testFiles.append(file)\n",
    "        Category.append(dir)\n",
    "        FileName.append(file)\n",
    "        Path.append(dirpath+'\\\\test\\\\'+dir+'\\\\'+file)\n",
    "        # Open a file: fileReader\n",
    "        fileReader = open(dirpath+'\\\\test\\\\'+dir+'\\\\'+file,mode='r')\n",
    "        # read all lines at once\n",
    "        text = fileReader.read().lower()\n",
    "        # close the file\n",
    "        fileReader.close()\n",
    "\n",
    "        cleanedText = cleanText(text)\n",
    "        \n",
    "        testInfo.append([file, cleanedText, dir, 'test'])"
   ]
  },
  {
   "cell_type": "code",
   "execution_count": 18,
   "metadata": {
    "collapsed": false
   },
   "outputs": [
    {
     "name": "stdout",
     "output_type": "stream",
     "text": [
      "# of categories:  23\n"
     ]
    },
    {
     "data": {
      "image/png": "[encoded data removed]",
      "text/plain": [
       "<matplotlib.figure.Figure at 0xd861db0>"
      ]
     },
     "metadata": {},
     "output_type": "display_data"
    },
    {
     "data": {
      "image/png": "[encoded data removed]",
      "text/plain": [
       "<matplotlib.figure.Figure at 0xd7c22d0>"
      ]
     },
     "metadata": {},
     "output_type": "display_data"
    },
    {
     "data": {
      "image/png": "[encoded data removed]",
      "text/plain": [
       "<matplotlib.figure.Figure at 0xd7b52d0>"
      ]
     },
     "metadata": {},
     "output_type": "display_data"
    },
    {
     "data": {
      "image/png": "[encoded data removed]",
      "text/plain": [
       "<matplotlib.figure.Figure at 0xf996df0>"
      ]
     },
     "metadata": {},
     "output_type": "display_data"
    },
    {
     "data": {
      "image/png": "[encoded data removed]",
      "text/plain": [
       "<matplotlib.figure.Figure at 0xe06f350>"
      ]
     },
     "metadata": {},
     "output_type": "display_data"
    },
    {
     "data": {
      "image/png": "[encoded data removed]",
      "text/plain": [
       "<matplotlib.figure.Figure at 0xd7da530>"
      ]
     },
     "metadata": {},
     "output_type": "display_data"
    },
    {
     "data": {
      "image/png": "[encoded data removed]",
      "text/plain": [
       "<matplotlib.figure.Figure at 0xd7ab9f0>"
      ]
     },
     "metadata": {},
     "output_type": "display_data"
    },
    {
     "data": {
      "image/png": "[encoded data removed]",
      "text/plain": [
       "<matplotlib.figure.Figure at 0xf9346d0>"
      ]
     },
     "metadata": {},
     "output_type": "display_data"
    },
    {
     "data": {
      "image/png": "[encoded data removed]",
      "text/plain": [
       "<matplotlib.figure.Figure at 0xb7b1150>"
      ]
     },
     "metadata": {},
     "output_type": "display_data"
    },
    {
     "data": {
      "image/png": "[encoded data removed]",
      "text/plain": [
       "<matplotlib.figure.Figure at 0xfcd3dd0>"
      ]
     },
     "metadata": {},
     "output_type": "display_data"
    },
    {
     "data": {
      "image/png": "[encoded data removed]",
      "text/plain": [
       "<matplotlib.figure.Figure at 0xd850070>"
      ]
     },
     "metadata": {},
     "output_type": "display_data"
    },
    {
     "data": {
      "image/png": "[encoded data removed]",
      "text/plain": [
       "<matplotlib.figure.Figure at 0xf96c5b0>"
      ]
     },
     "metadata": {},
     "output_type": "display_data"
    },
    {
     "data": {
      "image/png": "[encoded data removed]",
      "text/plain": [
       "<matplotlib.figure.Figure at 0xf987110>"
      ]
     },
     "metadata": {},
     "output_type": "display_data"
    },
    {
     "data": {
      "image/png": "[encoded data removed]",
      "text/plain": [
       "<matplotlib.figure.Figure at 0xfa4de10>"
      ]
     },
     "metadata": {},
     "output_type": "display_data"
    },
    {
     "data": {
      "image/png": "[encoded data removed]",
      "text/plain": [
       "<matplotlib.figure.Figure at 0xf9a5230>"
      ]
     },
     "metadata": {},
     "output_type": "display_data"
    },
    {
     "data": {
      "image/png": "[encoded data removed]",
      "text/plain": [
       "<matplotlib.figure.Figure at 0xfc6a210>"
      ]
     },
     "metadata": {},
     "output_type": "display_data"
    },
    {
     "data": {
      "image/png": "[encoded data removed]",
      "text/plain": [
       "<matplotlib.figure.Figure at 0xfb026d0>"
      ]
     },
     "metadata": {},
     "output_type": "display_data"
    },
    {
     "data": {
      "image/png": "[encoded data removed]",
      "text/plain": [
       "<matplotlib.figure.Figure at 0xfc7a4b0>"
      ]
     },
     "metadata": {},
     "output_type": "display_data"
    },
    {
     "data": {
      "image/png": "[encoded data removed]",
      "text/plain": [
       "<matplotlib.figure.Figure at 0xe133350>"
      ]
     },
     "metadata": {},
     "output_type": "display_data"
    },
    {
     "data": {
      "image/png": "[encoded data removed]",
      "text/plain": [
       "<matplotlib.figure.Figure at 0xfd23e10>"
      ]
     },
     "metadata": {},
     "output_type": "display_data"
    },
    {
     "data": {
      "image/png": "[encoded data removed]",
      "text/plain": [
       "<matplotlib.figure.Figure at 0xd8408b0>"
      ]
     },
     "metadata": {},
     "output_type": "display_data"
    },
    {
     "data": {
      "image/png": "[encoded data removed]",
      "text/plain": [
       "<matplotlib.figure.Figure at 0xfa88d70>"
      ]
     },
     "metadata": {},
     "output_type": "display_data"
    },
    {
     "data": {
      "image/png": "[encoded data removed]",
      "text/plain": [
       "<matplotlib.figure.Figure at 0xff9adf0>"
      ]
     },
     "metadata": {},
     "output_type": "display_data"
    },
    {
     "name": "stdout",
     "output_type": "stream",
     "text": [
      "   Class  #OfFiles\n0    C01       423\n1    C02       158\n2    C03        65\n3    C04      1163\n4    C05       283\n5    C06       588\n6    C07       100\n7    C08       473\n8    C09       125\n9    C10       621\n10   C11       162\n11   C12       491\n12   C13       281\n13   C14      1249\n14   C15       215\n15   C16       200\n16   C17       295\n17   C18       388\n18   C19       191\n19   C20       525\n20   C21       546\n21   C22        92\n22   C23      1799\n"
     ]
    },
    {
     "data": {
      "text/html": [
       "<div>\n",
       "<style>\n",
       "    .dataframe thead tr:only-child th {\n",
       "        text-align: right;\n",
       "    }\n",
       "\n",
       "    .dataframe thead th {\n",
       "        text-align: left;\n",
       "    }\n",
       "\n",
       "    .dataframe tbody tr th {\n",
       "        vertical-align: top;\n",
       "    }\n",
       "</style>\n",
       "<table border=\"1\" class=\"dataframe\">\n",
       "  <thead>\n",
       "    <tr style=\"text-align: right;\">\n",
       "      <th></th>\n",
       "      <th>Class</th>\n",
       "      <th>term 1</th>\n",
       "      <th>term 2</th>\n",
       "      <th>term 3</th>\n",
       "      <th>term 4</th>\n",
       "      <th>term 5</th>\n",
       "      <th>term 6</th>\n",
       "      <th>term 7</th>\n",
       "      <th>term 8</th>\n",
       "      <th>term 9</th>\n",
       "      <th>term 10</th>\n",
       "    </tr>\n",
       "  </thead>\n",
       "  <tbody>\n",
       "    <tr>\n",
       "      <th>0</th>\n",
       "      <td>C01</td>\n",
       "      <td>(infect, 237)</td>\n",
       "      <td>(studi, 144)</td>\n",
       "      <td>(case, 141)</td>\n",
       "      <td>(use, 132)</td>\n",
       "      <td>(clinic, 127)</td>\n",
       "      <td>(treatment, 127)</td>\n",
       "      <td>(result, 116)</td>\n",
       "      <td>(diseas, 111)</td>\n",
       "      <td>(effect, 104)</td>\n",
       "      <td>(associ, 104)</td>\n",
       "    </tr>\n",
       "    <tr>\n",
       "      <th>1</th>\n",
       "      <td>C02</td>\n",
       "      <td>(infect, 100)</td>\n",
       "      <td>(viru, 74)</td>\n",
       "      <td>(human, 63)</td>\n",
       "      <td>(studi, 55)</td>\n",
       "      <td>(use, 50)</td>\n",
       "      <td>(diseas, 49)</td>\n",
       "      <td>(clinic, 49)</td>\n",
       "      <td>(immunodefici, 48)</td>\n",
       "      <td>(result, 42)</td>\n",
       "      <td>(case, 41)</td>\n",
       "    </tr>\n",
       "    <tr>\n",
       "      <th>2</th>\n",
       "      <td>C03</td>\n",
       "      <td>(infect, 34)</td>\n",
       "      <td>(studi, 28)</td>\n",
       "      <td>(diseas, 22)</td>\n",
       "      <td>(case, 21)</td>\n",
       "      <td>(parasit, 20)</td>\n",
       "      <td>(treatment, 19)</td>\n",
       "      <td>(use, 18)</td>\n",
       "      <td>(present, 17)</td>\n",
       "      <td>(antibodi, 16)</td>\n",
       "      <td>(treat, 15)</td>\n",
       "    </tr>\n",
       "    <tr>\n",
       "      <th>3</th>\n",
       "      <td>C04</td>\n",
       "      <td>(tumor, 471)</td>\n",
       "      <td>(studi, 432)</td>\n",
       "      <td>(cell, 414)</td>\n",
       "      <td>(use, 402)</td>\n",
       "      <td>(case, 379)</td>\n",
       "      <td>(result, 350)</td>\n",
       "      <td>(carcinoma, 342)</td>\n",
       "      <td>(cancer, 331)</td>\n",
       "      <td>(treatment, 308)</td>\n",
       "      <td>(clinic, 290)</td>\n",
       "    </tr>\n",
       "    <tr>\n",
       "      <th>4</th>\n",
       "      <td>C05</td>\n",
       "      <td>(use, 102)</td>\n",
       "      <td>(studi, 97)</td>\n",
       "      <td>(result, 94)</td>\n",
       "      <td>(case, 73)</td>\n",
       "      <td>(clinic, 71)</td>\n",
       "      <td>(diseas, 64)</td>\n",
       "      <td>(one, 64)</td>\n",
       "      <td>(bone, 62)</td>\n",
       "      <td>(associ, 61)</td>\n",
       "      <td>(year, 58)</td>\n",
       "    </tr>\n",
       "    <tr>\n",
       "      <th>5</th>\n",
       "      <td>C06</td>\n",
       "      <td>(studi, 257)</td>\n",
       "      <td>(use, 192)</td>\n",
       "      <td>(diseas, 190)</td>\n",
       "      <td>(result, 174)</td>\n",
       "      <td>(two, 156)</td>\n",
       "      <td>(associ, 153)</td>\n",
       "      <td>(less, 145)</td>\n",
       "      <td>(one, 143)</td>\n",
       "      <td>(treatment, 142)</td>\n",
       "      <td>(case, 141)</td>\n",
       "    </tr>\n",
       "    <tr>\n",
       "      <th>6</th>\n",
       "      <td>C07</td>\n",
       "      <td>(case, 39)</td>\n",
       "      <td>(use, 34)</td>\n",
       "      <td>(treatment, 33)</td>\n",
       "      <td>(studi, 29)</td>\n",
       "      <td>(present, 28)</td>\n",
       "      <td>(patient, 27)</td>\n",
       "      <td>(result, 26)</td>\n",
       "      <td>(report, 23)</td>\n",
       "      <td>(gland, 21)</td>\n",
       "      <td>(includ, 20)</td>\n",
       "    </tr>\n",
       "    <tr>\n",
       "      <th>7</th>\n",
       "      <td>C08</td>\n",
       "      <td>(studi, 186)</td>\n",
       "      <td>(lung, 167)</td>\n",
       "      <td>(use, 164)</td>\n",
       "      <td>(pulmonari, 157)</td>\n",
       "      <td>(result, 150)</td>\n",
       "      <td>(diseas, 138)</td>\n",
       "      <td>(clinic, 124)</td>\n",
       "      <td>(increas, 124)</td>\n",
       "      <td>(case, 123)</td>\n",
       "      <td>(effect, 120)</td>\n",
       "    </tr>\n",
       "    <tr>\n",
       "      <th>8</th>\n",
       "      <td>C09</td>\n",
       "      <td>(use, 49)</td>\n",
       "      <td>(studi, 46)</td>\n",
       "      <td>(case, 42)</td>\n",
       "      <td>(result, 41)</td>\n",
       "      <td>(present, 39)</td>\n",
       "      <td>(treatment, 34)</td>\n",
       "      <td>(clinic, 31)</td>\n",
       "      <td>(one, 30)</td>\n",
       "      <td>(diseas, 28)</td>\n",
       "      <td>(two, 28)</td>\n",
       "    </tr>\n",
       "    <tr>\n",
       "      <th>9</th>\n",
       "      <td>C10</td>\n",
       "      <td>(studi, 249)</td>\n",
       "      <td>(use, 206)</td>\n",
       "      <td>(result, 178)</td>\n",
       "      <td>(clinic, 162)</td>\n",
       "      <td>(patient, 153)</td>\n",
       "      <td>(suggest, 149)</td>\n",
       "      <td>(case, 147)</td>\n",
       "      <td>(present, 145)</td>\n",
       "      <td>(effect, 137)</td>\n",
       "      <td>(report, 135)</td>\n",
       "    </tr>\n",
       "    <tr>\n",
       "      <th>10</th>\n",
       "      <td>C11</td>\n",
       "      <td>(eye, 68)</td>\n",
       "      <td>(use, 61)</td>\n",
       "      <td>(retin, 50)</td>\n",
       "      <td>(case, 45)</td>\n",
       "      <td>(studi, 45)</td>\n",
       "      <td>(one, 43)</td>\n",
       "      <td>(develop, 41)</td>\n",
       "      <td>(result, 40)</td>\n",
       "      <td>(associ, 38)</td>\n",
       "      <td>(clinic, 38)</td>\n",
       "    </tr>\n",
       "    <tr>\n",
       "      <th>11</th>\n",
       "      <td>C12</td>\n",
       "      <td>(studi, 194)</td>\n",
       "      <td>(use, 173)</td>\n",
       "      <td>(renal, 172)</td>\n",
       "      <td>(treatment, 150)</td>\n",
       "      <td>(diseas, 131)</td>\n",
       "      <td>(result, 127)</td>\n",
       "      <td>(increas, 126)</td>\n",
       "      <td>(effect, 126)</td>\n",
       "      <td>(case, 121)</td>\n",
       "      <td>(clinic, 114)</td>\n",
       "    </tr>\n",
       "    <tr>\n",
       "      <th>12</th>\n",
       "      <td>C13</td>\n",
       "      <td>(pregnanc, 115)</td>\n",
       "      <td>(women, 113)</td>\n",
       "      <td>(studi, 104)</td>\n",
       "      <td>(use, 102)</td>\n",
       "      <td>(result, 71)</td>\n",
       "      <td>(case, 69)</td>\n",
       "      <td>(associ, 67)</td>\n",
       "      <td>(treatment, 65)</td>\n",
       "      <td>(effect, 64)</td>\n",
       "      <td>(less, 63)</td>\n",
       "    </tr>\n",
       "    <tr>\n",
       "      <th>13</th>\n",
       "      <td>C14</td>\n",
       "      <td>(studi, 558)</td>\n",
       "      <td>(use, 502)</td>\n",
       "      <td>(arteri, 457)</td>\n",
       "      <td>(less, 435)</td>\n",
       "      <td>(increas, 388)</td>\n",
       "      <td>(result, 387)</td>\n",
       "      <td>(effect, 367)</td>\n",
       "      <td>(diseas, 358)</td>\n",
       "      <td>(heart, 344)</td>\n",
       "      <td>(signific, 323)</td>\n",
       "    </tr>\n",
       "    <tr>\n",
       "      <th>14</th>\n",
       "      <td>C15</td>\n",
       "      <td>(cell, 82)</td>\n",
       "      <td>(studi, 77)</td>\n",
       "      <td>(case, 77)</td>\n",
       "      <td>(patient, 75)</td>\n",
       "      <td>(diseas, 71)</td>\n",
       "      <td>(clinic, 65)</td>\n",
       "      <td>(use, 60)</td>\n",
       "      <td>(associ, 57)</td>\n",
       "      <td>(increas, 55)</td>\n",
       "      <td>(present, 54)</td>\n",
       "    </tr>\n",
       "    <tr>\n",
       "      <th>15</th>\n",
       "      <td>C16</td>\n",
       "      <td>(studi, 82)</td>\n",
       "      <td>(use, 60)</td>\n",
       "      <td>(associ, 59)</td>\n",
       "      <td>(result, 58)</td>\n",
       "      <td>(two, 57)</td>\n",
       "      <td>(one, 56)</td>\n",
       "      <td>(age, 54)</td>\n",
       "      <td>(less, 52)</td>\n",
       "      <td>(year, 50)</td>\n",
       "      <td>(increas, 48)</td>\n",
       "    </tr>\n",
       "    <tr>\n",
       "      <th>16</th>\n",
       "      <td>C17</td>\n",
       "      <td>(studi, 103)</td>\n",
       "      <td>(diseas, 101)</td>\n",
       "      <td>(skin, 93)</td>\n",
       "      <td>(use, 86)</td>\n",
       "      <td>(clinic, 79)</td>\n",
       "      <td>(case, 73)</td>\n",
       "      <td>(lesion, 72)</td>\n",
       "      <td>(cell, 71)</td>\n",
       "      <td>(result, 70)</td>\n",
       "      <td>(report, 68)</td>\n",
       "    </tr>\n",
       "    <tr>\n",
       "      <th>17</th>\n",
       "      <td>C18</td>\n",
       "      <td>(studi, 190)</td>\n",
       "      <td>(diabet, 168)</td>\n",
       "      <td>(increas, 148)</td>\n",
       "      <td>(level, 137)</td>\n",
       "      <td>(less, 133)</td>\n",
       "      <td>(effect, 129)</td>\n",
       "      <td>(control, 126)</td>\n",
       "      <td>(use, 121)</td>\n",
       "      <td>(compar, 117)</td>\n",
       "      <td>(result, 112)</td>\n",
       "    </tr>\n",
       "    <tr>\n",
       "      <th>18</th>\n",
       "      <td>C19</td>\n",
       "      <td>(studi, 91)</td>\n",
       "      <td>(diabet, 68)</td>\n",
       "      <td>(result, 61)</td>\n",
       "      <td>(less, 60)</td>\n",
       "      <td>(normal, 58)</td>\n",
       "      <td>(level, 58)</td>\n",
       "      <td>(diseas, 58)</td>\n",
       "      <td>(increas, 55)</td>\n",
       "      <td>(associ, 54)</td>\n",
       "      <td>(use, 54)</td>\n",
       "    </tr>\n",
       "    <tr>\n",
       "      <th>19</th>\n",
       "      <td>C20</td>\n",
       "      <td>(studi, 217)</td>\n",
       "      <td>(use, 199)</td>\n",
       "      <td>(infect, 186)</td>\n",
       "      <td>(human, 185)</td>\n",
       "      <td>(diseas, 178)</td>\n",
       "      <td>(result, 163)</td>\n",
       "      <td>(immunodefici, 159)</td>\n",
       "      <td>(cell, 152)</td>\n",
       "      <td>(viru, 149)</td>\n",
       "      <td>(clinic, 146)</td>\n",
       "    </tr>\n",
       "    <tr>\n",
       "      <th>20</th>\n",
       "      <td>C21</td>\n",
       "      <td>(use, 224)</td>\n",
       "      <td>(studi, 197)</td>\n",
       "      <td>(result, 187)</td>\n",
       "      <td>(injuri, 173)</td>\n",
       "      <td>(case, 145)</td>\n",
       "      <td>(effect, 130)</td>\n",
       "      <td>(report, 118)</td>\n",
       "      <td>(one, 116)</td>\n",
       "      <td>(treatment, 113)</td>\n",
       "      <td>(associ, 112)</td>\n",
       "    </tr>\n",
       "    <tr>\n",
       "      <th>21</th>\n",
       "      <td>C22</td>\n",
       "      <td>(model, 56)</td>\n",
       "      <td>(studi, 55)</td>\n",
       "      <td>(anim, 41)</td>\n",
       "      <td>(use, 39)</td>\n",
       "      <td>(effect, 38)</td>\n",
       "      <td>(compar, 34)</td>\n",
       "      <td>(increas, 33)</td>\n",
       "      <td>(control, 32)</td>\n",
       "      <td>(human, 31)</td>\n",
       "      <td>(observ, 29)</td>\n",
       "    </tr>\n",
       "    <tr>\n",
       "      <th>22</th>\n",
       "      <td>C23</td>\n",
       "      <td>(studi, 677)</td>\n",
       "      <td>(use, 648)</td>\n",
       "      <td>(result, 557)</td>\n",
       "      <td>(two, 460)</td>\n",
       "      <td>(case, 447)</td>\n",
       "      <td>(less, 440)</td>\n",
       "      <td>(one, 429)</td>\n",
       "      <td>(effect, 428)</td>\n",
       "      <td>(patient, 413)</td>\n",
       "      <td>(group, 403)</td>\n",
       "    </tr>\n",
       "  </tbody>\n",
       "</table>\n",
       "</div>"
      ],
      "text/plain": [
       "<div>\n",
       "<style>\n",
       "    .dataframe thead tr:only-child th {\n",
       "        text-align: right;\n",
       "    }\n",
       "\n",
       "    .dataframe thead th {\n",
       "        text-align: left;\n",
       "    }\n",
       "\n",
       "    .dataframe tbody tr th {\n",
       "        vertical-align: top;\n",
       "    }\n",
       "</style>\n",
       "<table border=\"1\" class=\"dataframe\">\n",
       "  <thead>\n",
       "    <tr style=\"text-align: right;\">\n",
       "      <th></th>\n",
       "      <th>Class</th>\n",
       "      <th>term 1</th>\n",
       "      <th>term 2</th>\n",
       "      <th>term 3</th>\n",
       "      <th>term 4</th>\n",
       "      <th>term 5</th>\n",
       "      <th>term 6</th>\n",
       "      <th>term 7</th>\n",
       "      <th>term 8</th>\n",
       "      <th>term 9</th>\n",
       "      <th>term 10</th>\n",
       "    </tr>\n",
       "  </thead>\n",
       "  <tbody>\n",
       "    <tr>\n",
       "      <th>0</th>\n",
       "      <td>C01</td>\n",
       "      <td>(infect, 237)</td>\n",
       "      <td>(studi, 144)</td>\n",
       "      <td>(case, 141)</td>\n",
       "      <td>(use, 132)</td>\n",
       "      <td>(clinic, 127)</td>\n",
       "      <td>(treatment, 127)</td>\n",
       "      <td>(result, 116)</td>\n",
       "      <td>(diseas, 111)</td>\n",
       "      <td>(effect, 104)</td>\n",
       "      <td>(associ, 104)</td>\n",
       "    </tr>\n",
       "    <tr>\n",
       "      <th>1</th>\n",
       "      <td>C02</td>\n",
       "      <td>(infect, 100)</td>\n",
       "      <td>(viru, 74)</td>\n",
       "      <td>(human, 63)</td>\n",
       "      <td>(studi, 55)</td>\n",
       "      <td>(use, 50)</td>\n",
       "      <td>(diseas, 49)</td>\n",
       "      <td>(clinic, 49)</td>\n",
       "      <td>(immunodefici, 48)</td>\n",
       "      <td>(result, 42)</td>\n",
       "      <td>(case, 41)</td>\n",
       "    </tr>\n",
       "    <tr>\n",
       "      <th>2</th>\n",
       "      <td>C03</td>\n",
       "      <td>(infect, 34)</td>\n",
       "      <td>(studi, 28)</td>\n",
       "      <td>(diseas, 22)</td>\n",
       "      <td>(case, 21)</td>\n",
       "      <td>(parasit, 20)</td>\n",
       "      <td>(treatment, 19)</td>\n",
       "      <td>(use, 18)</td>\n",
       "      <td>(present, 17)</td>\n",
       "      <td>(antibodi, 16)</td>\n",
       "      <td>(treat, 15)</td>\n",
       "    </tr>\n",
       "    <tr>\n",
       "      <th>3</th>\n",
       "      <td>C04</td>\n",
       "      <td>(tumor, 471)</td>\n",
       "      <td>(studi, 432)</td>\n",
       "      <td>(cell, 414)</td>\n",
       "      <td>(use, 402)</td>\n",
       "      <td>(case, 379)</td>\n",
       "      <td>(result, 350)</td>\n",
       "      <td>(carcinoma, 342)</td>\n",
       "      <td>(cancer, 331)</td>\n",
       "      <td>(treatment, 308)</td>\n",
       "      <td>(clinic, 290)</td>\n",
       "    </tr>\n",
       "    <tr>\n",
       "      <th>4</th>\n",
       "      <td>C05</td>\n",
       "      <td>(use, 102)</td>\n",
       "      <td>(studi, 97)</td>\n",
       "      <td>(result, 94)</td>\n",
       "      <td>(case, 73)</td>\n",
       "      <td>(clinic, 71)</td>\n",
       "      <td>(diseas, 64)</td>\n",
       "      <td>(one, 64)</td>\n",
       "      <td>(bone, 62)</td>\n",
       "      <td>(associ, 61)</td>\n",
       "      <td>(year, 58)</td>\n",
       "    </tr>\n",
       "    <tr>\n",
       "      <th>5</th>\n",
       "      <td>C06</td>\n",
       "      <td>(studi, 257)</td>\n",
       "      <td>(use, 192)</td>\n",
       "      <td>(diseas, 190)</td>\n",
       "      <td>(result, 174)</td>\n",
       "      <td>(two, 156)</td>\n",
       "      <td>(associ, 153)</td>\n",
       "      <td>(less, 145)</td>\n",
       "      <td>(one, 143)</td>\n",
       "      <td>(treatment, 142)</td>\n",
       "      <td>(case, 141)</td>\n",
       "    </tr>\n",
       "    <tr>\n",
       "      <th>6</th>\n",
       "      <td>C07</td>\n",
       "      <td>(case, 39)</td>\n",
       "      <td>(use, 34)</td>\n",
       "      <td>(treatment, 33)</td>\n",
       "      <td>(studi, 29)</td>\n",
       "      <td>(present, 28)</td>\n",
       "      <td>(patient, 27)</td>\n",
       "      <td>(result, 26)</td>\n",
       "      <td>(report, 23)</td>\n",
       "      <td>(gland, 21)</td>\n",
       "      <td>(includ, 20)</td>\n",
       "    </tr>\n",
       "    <tr>\n",
       "      <th>7</th>\n",
       "      <td>C08</td>\n",
       "      <td>(studi, 186)</td>\n",
       "      <td>(lung, 167)</td>\n",
       "      <td>(use, 164)</td>\n",
       "      <td>(pulmonari, 157)</td>\n",
       "      <td>(result, 150)</td>\n",
       "      <td>(diseas, 138)</td>\n",
       "      <td>(clinic, 124)</td>\n",
       "      <td>(increas, 124)</td>\n",
       "      <td>(case, 123)</td>\n",
       "      <td>(effect, 120)</td>\n",
       "    </tr>\n",
       "    <tr>\n",
       "      <th>8</th>\n",
       "      <td>C09</td>\n",
       "      <td>(use, 49)</td>\n",
       "      <td>(studi, 46)</td>\n",
       "      <td>(case, 42)</td>\n",
       "      <td>(result, 41)</td>\n",
       "      <td>(present, 39)</td>\n",
       "      <td>(treatment, 34)</td>\n",
       "      <td>(clinic, 31)</td>\n",
       "      <td>(one, 30)</td>\n",
       "      <td>(diseas, 28)</td>\n",
       "      <td>(two, 28)</td>\n",
       "    </tr>\n",
       "    <tr>\n",
       "      <th>9</th>\n",
       "      <td>C10</td>\n",
       "      <td>(studi, 249)</td>\n",
       "      <td>(use, 206)</td>\n",
       "      <td>(result, 178)</td>\n",
       "      <td>(clinic, 162)</td>\n",
       "      <td>(patient, 153)</td>\n",
       "      <td>(suggest, 149)</td>\n",
       "      <td>(case, 147)</td>\n",
       "      <td>(present, 145)</td>\n",
       "      <td>(effect, 137)</td>\n",
       "      <td>(report, 135)</td>\n",
       "    </tr>\n",
       "    <tr>\n",
       "      <th>10</th>\n",
       "      <td>C11</td>\n",
       "      <td>(eye, 68)</td>\n",
       "      <td>(use, 61)</td>\n",
       "      <td>(retin, 50)</td>\n",
       "      <td>(case, 45)</td>\n",
       "      <td>(studi, 45)</td>\n",
       "      <td>(one, 43)</td>\n",
       "      <td>(develop, 41)</td>\n",
       "      <td>(result, 40)</td>\n",
       "      <td>(associ, 38)</td>\n",
       "      <td>(clinic, 38)</td>\n",
       "    </tr>\n",
       "    <tr>\n",
       "      <th>11</th>\n",
       "      <td>C12</td>\n",
       "      <td>(studi, 194)</td>\n",
       "      <td>(use, 173)</td>\n",
       "      <td>(renal, 172)</td>\n",
       "      <td>(treatment, 150)</td>\n",
       "      <td>(diseas, 131)</td>\n",
       "      <td>(result, 127)</td>\n",
       "      <td>(increas, 126)</td>\n",
       "      <td>(effect, 126)</td>\n",
       "      <td>(case, 121)</td>\n",
       "      <td>(clinic, 114)</td>\n",
       "    </tr>\n",
       "    <tr>\n",
       "      <th>12</th>\n",
       "      <td>C13</td>\n",
       "      <td>(pregnanc, 115)</td>\n",
       "      <td>(women, 113)</td>\n",
       "      <td>(studi, 104)</td>\n",
       "      <td>(use, 102)</td>\n",
       "      <td>(result, 71)</td>\n",
       "      <td>(case, 69)</td>\n",
       "      <td>(associ, 67)</td>\n",
       "      <td>(treatment, 65)</td>\n",
       "      <td>(effect, 64)</td>\n",
       "      <td>(less, 63)</td>\n",
       "    </tr>\n",
       "    <tr>\n",
       "      <th>13</th>\n",
       "      <td>C14</td>\n",
       "      <td>(studi, 558)</td>\n",
       "      <td>(use, 502)</td>\n",
       "      <td>(arteri, 457)</td>\n",
       "      <td>(less, 435)</td>\n",
       "      <td>(increas, 388)</td>\n",
       "      <td>(result, 387)</td>\n",
       "      <td>(effect, 367)</td>\n",
       "      <td>(diseas, 358)</td>\n",
       "      <td>(heart, 344)</td>\n",
       "      <td>(signific, 323)</td>\n",
       "    </tr>\n",
       "    <tr>\n",
       "      <th>14</th>\n",
       "      <td>C15</td>\n",
       "      <td>(cell, 82)</td>\n",
       "      <td>(studi, 77)</td>\n",
       "      <td>(case, 77)</td>\n",
       "      <td>(patient, 75)</td>\n",
       "      <td>(diseas, 71)</td>\n",
       "      <td>(clinic, 65)</td>\n",
       "      <td>(use, 60)</td>\n",
       "      <td>(associ, 57)</td>\n",
       "      <td>(increas, 55)</td>\n",
       "      <td>(present, 54)</td>\n",
       "    </tr>\n",
       "    <tr>\n",
       "      <th>15</th>\n",
       "      <td>C16</td>\n",
       "      <td>(studi, 82)</td>\n",
       "      <td>(use, 60)</td>\n",
       "      <td>(associ, 59)</td>\n",
       "      <td>(result, 58)</td>\n",
       "      <td>(two, 57)</td>\n",
       "      <td>(one, 56)</td>\n",
       "      <td>(age, 54)</td>\n",
       "      <td>(less, 52)</td>\n",
       "      <td>(year, 50)</td>\n",
       "      <td>(increas, 48)</td>\n",
       "    </tr>\n",
       "    <tr>\n",
       "      <th>16</th>\n",
       "      <td>C17</td>\n",
       "      <td>(studi, 103)</td>\n",
       "      <td>(diseas, 101)</td>\n",
       "      <td>(skin, 93)</td>\n",
       "      <td>(use, 86)</td>\n",
       "      <td>(clinic, 79)</td>\n",
       "      <td>(case, 73)</td>\n",
       "      <td>(lesion, 72)</td>\n",
       "      <td>(cell, 71)</td>\n",
       "      <td>(result, 70)</td>\n",
       "      <td>(report, 68)</td>\n",
       "    </tr>\n",
       "    <tr>\n",
       "      <th>17</th>\n",
       "      <td>C18</td>\n",
       "      <td>(studi, 190)</td>\n",
       "      <td>(diabet, 168)</td>\n",
       "      <td>(increas, 148)</td>\n",
       "      <td>(level, 137)</td>\n",
       "      <td>(less, 133)</td>\n",
       "      <td>(effect, 129)</td>\n",
       "      <td>(control, 126)</td>\n",
       "      <td>(use, 121)</td>\n",
       "      <td>(compar, 117)</td>\n",
       "      <td>(result, 112)</td>\n",
       "    </tr>\n",
       "    <tr>\n",
       "      <th>18</th>\n",
       "      <td>C19</td>\n",
       "      <td>(studi, 91)</td>\n",
       "      <td>(diabet, 68)</td>\n",
       "      <td>(result, 61)</td>\n",
       "      <td>(less, 60)</td>\n",
       "      <td>(normal, 58)</td>\n",
       "      <td>(level, 58)</td>\n",
       "      <td>(diseas, 58)</td>\n",
       "      <td>(increas, 55)</td>\n",
       "      <td>(associ, 54)</td>\n",
       "      <td>(use, 54)</td>\n",
       "    </tr>\n",
       "    <tr>\n",
       "      <th>19</th>\n",
       "      <td>C20</td>\n",
       "      <td>(studi, 217)</td>\n",
       "      <td>(use, 199)</td>\n",
       "      <td>(infect, 186)</td>\n",
       "      <td>(human, 185)</td>\n",
       "      <td>(diseas, 178)</td>\n",
       "      <td>(result, 163)</td>\n",
       "      <td>(immunodefici, 159)</td>\n",
       "      <td>(cell, 152)</td>\n",
       "      <td>(viru, 149)</td>\n",
       "      <td>(clinic, 146)</td>\n",
       "    </tr>\n",
       "    <tr>\n",
       "      <th>20</th>\n",
       "      <td>C21</td>\n",
       "      <td>(use, 224)</td>\n",
       "      <td>(studi, 197)</td>\n",
       "      <td>(result, 187)</td>\n",
       "      <td>(injuri, 173)</td>\n",
       "      <td>(case, 145)</td>\n",
       "      <td>(effect, 130)</td>\n",
       "      <td>(report, 118)</td>\n",
       "      <td>(one, 116)</td>\n",
       "      <td>(treatment, 113)</td>\n",
       "      <td>(associ, 112)</td>\n",
       "    </tr>\n",
       "    <tr>\n",
       "      <th>21</th>\n",
       "      <td>C22</td>\n",
       "      <td>(model, 56)</td>\n",
       "      <td>(studi, 55)</td>\n",
       "      <td>(anim, 41)</td>\n",
       "      <td>(use, 39)</td>\n",
       "      <td>(effect, 38)</td>\n",
       "      <td>(compar, 34)</td>\n",
       "      <td>(increas, 33)</td>\n",
       "      <td>(control, 32)</td>\n",
       "      <td>(human, 31)</td>\n",
       "      <td>(observ, 29)</td>\n",
       "    </tr>\n",
       "    <tr>\n",
       "      <th>22</th>\n",
       "      <td>C23</td>\n",
       "      <td>(studi, 677)</td>\n",
       "      <td>(use, 648)</td>\n",
       "      <td>(result, 557)</td>\n",
       "      <td>(two, 460)</td>\n",
       "      <td>(case, 447)</td>\n",
       "      <td>(less, 440)</td>\n",
       "      <td>(one, 429)</td>\n",
       "      <td>(effect, 428)</td>\n",
       "      <td>(patient, 413)</td>\n",
       "      <td>(group, 403)</td>\n",
       "    </tr>\n",
       "  </tbody>\n",
       "</table>\n",
       "</div>"
      ]
     },
     "execution_count": 18,
     "metadata": {},
     "output_type": "execute_result"
    }
   ],
   "source": [
    "#get number of classes and number of docs for each class\n",
    "docInfoDF=pd.DataFrame(trainInfo, columns=['fileName','cleanText','class','group'])\n",
    "allClasses=np.unique(docInfoDF['class'])\n",
    "print ('# of categories: ',allClasses.size)\n",
    "numOfFiles=[]\n",
    "words_per_class = []\n",
    "termsFreqPerClass=[]\n",
    "for currClass in allClasses:\n",
    "    # get number of files in category\n",
    "    currFiles=docInfoDF.loc[docInfoDF['class']==currClass]\n",
    "    numOfFiles.append([currClass, len(currFiles)])\n",
    "    #get terms distibution\n",
    "    # get terms freq in currClass\n",
    "    temp=[\" \".join(set(w.split(\" \"))) for w in currFiles['cleanText']] #remove duplicates\n",
    "    temp=\" \".join(temp)\n",
    "    termsFreq=pd.Series((temp).split()).value_counts()\n",
    "    termsFreqDF = pd.DataFrame()\n",
    "    termsFreqDF['term'] = termsFreq.index\n",
    "    termsFreqDF['freq'] = list(termsFreq)    \n",
    "    setFreq=set(termsFreqDF['freq'])  \n",
    "    #histograma\n",
    "    fig = termsFreqDF.hist(column=\"freq\", bins=len(setFreq))\n",
    "    plt.title(currClass)\n",
    "    plt.xlabel(\"Number Of Files\", fontsize=15)\n",
    "    plt.ylabel(\"# Of Terms in x files\", fontsize=15)\n",
    "    plt.show(fig)\n",
    "    #get top 10\n",
    "    termsFreq=termsFreq[:10]\n",
    "    # termsFreqPerClass.append([currClass,zip(termsFreq.index,termsFreq)])\n",
    "    zipedFreq=zip(termsFreq.index, termsFreq)\n",
    "    zippedList=list(zipedFreq)\n",
    "    termsFreqPerClass.append([currClass]+zippedList)\n",
    "\n",
    "# print number of files prt category\n",
    "numOfFilesDF=pd.DataFrame(numOfFiles,columns=['Class','#OfFiles'])\n",
    "print(numOfFilesDF)\n",
    "# print terms frequency\n",
    "pd.DataFrame(termsFreqPerClass, columns=['Class','term 1','term 2','term 3','term 4','term 5','term 6','term 7','term 8','term 9','term 10'])"
   ]
  },
  {
   "cell_type": "markdown",
   "metadata": {},
   "source": [
    "#### Challenges:\n",
    "* There are words that common at most of the categories (such as 'stui','infect','use','patient','case'),that can effect the accurcy of the model.\n",
    "* Finding the right parameters and understand their meaning in order to impprove the algorithem"
   ]
  },
  {
   "cell_type": "markdown",
   "metadata": {},
   "source": [
    "<h1> 2. Document classification: <h1>"
   ]
  },
  {
   "cell_type": "markdown",
   "metadata": {},
   "source": [
    "feature extraction methods: TF-IDF, Bag Of Words\n",
    "machine learning models: SVM, Naïve Bayes"
   ]
  },
  {
   "cell_type": "code",
   "execution_count": 19,
   "metadata": {
    "collapsed": true
   },
   "outputs": [],
   "source": [
    "from sklearn import metrics\n",
    "from sklearn.pipeline import Pipeline\n",
    "from sklearn.model_selection import GridSearchCV\n",
    "from sklearn.feature_extraction.text import TfidfVectorizer\n",
    "from sklearn.feature_extraction.text import CountVectorizer\n",
    "from sklearn.naive_bayes import MultinomialNB\n",
    "from sklearn.linear_model import SGDClassifier\n",
    "from sklearn.linear_model import Perceptron"
   ]
  },
  {
   "cell_type": "code",
   "execution_count": 20,
   "metadata": {
    "collapsed": true
   },
   "outputs": [],
   "source": [
    "# save best\n",
    "best_accuracy = 0.0\n",
    "best_fe = ''\n",
    "best_classifier = ''\n",
    "best_corpus_type = ''"
   ]
  },
  {
   "cell_type": "code",
   "execution_count": 21,
   "metadata": {
    "collapsed": true
   },
   "outputs": [],
   "source": [
    "train=docInfoDF.loc[docInfoDF['group']=='training']\n",
    "trainSetText=train['cleanText'].tolist()\n",
    "trainSetClass=train['class'].tolist()\n",
    "test=pd.DataFrame(testInfo, columns=['fileName','cleanText','class','group'])\n",
    "testSetText=test['cleanText'].tolist()\n",
    "testSetClass=test['class'].tolist()"
   ]
  },
  {
   "cell_type": "code",
   "execution_count": 22,
   "metadata": {
    "collapsed": true
   },
   "outputs": [],
   "source": [
    "def classify(extractM,machineLearningM, parameters): \n",
    "            pipeline = Pipeline([('vect', extractM), ('clf', machineLearningM)])\n",
    "            gs_clf = GridSearchCV(pipeline, parameters, n_jobs=1)\n",
    "            gs_clf = gs_clf.fit(trainSetText, trainSetClass)\n",
    "            prediction = gs_clf.predict(testSetText)\n",
    "            accuracy = metrics.accuracy_score(testSetClass, prediction)\n",
    "            # print(accuracy)\n",
    "            return [accuracy, gs_clf.best_params_]"
   ]
  },
  {
   "cell_type": "code",
   "execution_count": 23,
   "metadata": {
    "collapsed": false
   },
   "outputs": [
    {
     "name": "stderr",
     "output_type": "stream",
     "text": [
      "C:\\Program Files (x86)\\Microsoft Visual Studio\\Shared\\Anaconda3_86\\lib\\site-packages\\sklearn\\linear_model\\stochastic_gradient.py:84: FutureWarning: max_iter and tol parameters have been added in <class 'sklearn.linear_model.stochastic_gradient.SGDClassifier'> in 0.19. If both are left unset, they default to max_iter=5 and tol=None. If tol is not None, max_iter defaults to max_iter=1000. From 0.21, default max_iter will be 1000, and default tol will be 1e-3.\n  \"and default tol will be 1e-3.\" % type(self), FutureWarning)\n"
     ]
    }
   ],
   "source": [
    "results=[]\n",
    "parameters = {'vect__max_df': (0.3,0.4,0.5,0.6,0.7,0.75, 1.0),'clf__alpha': (0.0001, 0.01,1.0)}\n",
    "#TF-IDF & SVM\n",
    "# print('TF-IDF AND SVM')\n",
    "ans = classify(TfidfVectorizer(sublinear_tf=True,stop_words='english'),SGDClassifier() ,parameters)\n",
    "accuracy = ans[0]\n",
    "params = ans[1]\n",
    "results.append(['TF-IDF' , 'SVM', params,accuracy])\n"
   ]
  },
  {
   "cell_type": "code",
   "execution_count": 24,
   "metadata": {
    "collapsed": false
   },
   "outputs": [],
   "source": [
    "#TF-IDF & Naïve Bayes\n",
    "# print('TF-IDF AND Naïve Bayes')\n",
    "ans = classify(TfidfVectorizer(sublinear_tf=True,stop_words='english'),MultinomialNB() ,parameters)\n",
    "accuracy = ans[0]\n",
    "params = ans[1]\n",
    "results.append(['TF-IDF' , 'Naïve Bayes', params,accuracy])"
   ]
  },
  {
   "cell_type": "code",
   "execution_count": 25,
   "metadata": {
    "collapsed": false
   },
   "outputs": [
    {
     "name": "stderr",
     "output_type": "stream",
     "text": [
      "C:\\Program Files (x86)\\Microsoft Visual Studio\\Shared\\Anaconda3_86\\lib\\site-packages\\sklearn\\linear_model\\stochastic_gradient.py:84: FutureWarning: max_iter and tol parameters have been added in <class 'sklearn.linear_model.stochastic_gradient.SGDClassifier'> in 0.19. If both are left unset, they default to max_iter=5 and tol=None. If tol is not None, max_iter defaults to max_iter=1000. From 0.21, default max_iter will be 1000, and default tol will be 1e-3.\n  \"and default tol will be 1e-3.\" % type(self), FutureWarning)\n"
     ]
    }
   ],
   "source": [
    "#Bag of Words & SVM\n",
    "# print('Bag of Words AND SVM')\n",
    "ans = classify(CountVectorizer(),SGDClassifier() ,parameters)\n",
    "accuracy = ans[0]\n",
    "params = ans[1]\n",
    "results.append(['Bag of Words' , 'SVM', params,accuracy])"
   ]
  },
  {
   "cell_type": "code",
   "execution_count": 26,
   "metadata": {
    "collapsed": false
   },
   "outputs": [],
   "source": [
    "#Bag of Words & Naïve Bayes\n",
    "# print('Bag of Words AND Naïve Bayes')\n",
    "ans = classify(CountVectorizer(),MultinomialNB() ,parameters)\n",
    "accuracy = ans[0]\n",
    "params = ans[1]\n",
    "results.append(['Bag of Words' , 'Naïve Bayes',  params,accuracy])\n"
   ]
  },
  {
   "cell_type": "code",
   "execution_count": null,
   "metadata": {
    "collapsed": false
   },
   "outputs": [
    {
     "data": {
      "text/html": [
       "<div>\n",
       "<style>\n",
       "    .dataframe thead tr:only-child th {\n",
       "        text-align: right;\n",
       "    }\n",
       "\n",
       "    .dataframe thead th {\n",
       "        text-align: left;\n",
       "    }\n",
       "\n",
       "    .dataframe tbody tr th {\n",
       "        vertical-align: top;\n",
       "    }\n",
       "</style>\n",
       "<table border=\"1\" class=\"dataframe\">\n",
       "  <thead>\n",
       "    <tr style=\"text-align: right;\">\n",
       "      <th></th>\n",
       "      <th>extraction method</th>\n",
       "      <th>machine learning method</th>\n",
       "      <th>parameters</th>\n",
       "      <th>accuracy</th>\n",
       "    </tr>\n",
       "  </thead>\n",
       "  <tbody>\n",
       "    <tr>\n",
       "      <th>0</th>\n",
       "      <td>TF-IDF</td>\n",
       "      <td>SVM</td>\n",
       "      <td>{'clf__alpha': 0.0001, 'vect__max_df': 0.3}</td>\n",
       "      <td>0.442708</td>\n",
       "    </tr>\n",
       "    <tr>\n",
       "      <th>1</th>\n",
       "      <td>TF-IDF</td>\n",
       "      <td>Naïve Bayes</td>\n",
       "      <td>{'clf__alpha': 0.01, 'vect__max_df': 0.4}</td>\n",
       "      <td>0.402340</td>\n",
       "    </tr>\n",
       "    <tr>\n",
       "      <th>2</th>\n",
       "      <td>Bag of Words</td>\n",
       "      <td>SVM</td>\n",
       "      <td>{'clf__alpha': 0.01, 'vect__max_df': 0.7}</td>\n",
       "      <td>0.427865</td>\n",
       "    </tr>\n",
       "    <tr>\n",
       "      <th>3</th>\n",
       "      <td>Bag of Words</td>\n",
       "      <td>Naïve Bayes</td>\n",
       "      <td>{'clf__alpha': 1.0, 'vect__max_df': 0.3}</td>\n",
       "      <td>0.407131</td>\n",
       "    </tr>\n",
       "  </tbody>\n",
       "</table>\n",
       "</div>"
      ],
      "text/plain": [
       "<div>\n",
       "<style>\n",
       "    .dataframe thead tr:only-child th {\n",
       "        text-align: right;\n",
       "    }\n",
       "\n",
       "    .dataframe thead th {\n",
       "        text-align: left;\n",
       "    }\n",
       "\n",
       "    .dataframe tbody tr th {\n",
       "        vertical-align: top;\n",
       "    }\n",
       "</style>\n",
       "<table border=\"1\" class=\"dataframe\">\n",
       "  <thead>\n",
       "    <tr style=\"text-align: right;\">\n",
       "      <th></th>\n",
       "      <th>extraction method</th>\n",
       "      <th>machine learning method</th>\n",
       "      <th>parameters</th>\n",
       "      <th>accuracy</th>\n",
       "    </tr>\n",
       "  </thead>\n",
       "  <tbody>\n",
       "    <tr>\n",
       "      <th>0</th>\n",
       "      <td>TF-IDF</td>\n",
       "      <td>SVM</td>\n",
       "      <td>{'clf__alpha': 0.0001, 'vect__max_df': 0.3}</td>\n",
       "      <td>0.442708</td>\n",
       "    </tr>\n",
       "    <tr>\n",
       "      <th>1</th>\n",
       "      <td>TF-IDF</td>\n",
       "      <td>Naïve Bayes</td>\n",
       "      <td>{'clf__alpha': 0.01, 'vect__max_df': 0.4}</td>\n",
       "      <td>0.402340</td>\n",
       "    </tr>\n",
       "    <tr>\n",
       "      <th>2</th>\n",
       "      <td>Bag of Words</td>\n",
       "      <td>SVM</td>\n",
       "      <td>{'clf__alpha': 0.01, 'vect__max_df': 0.7}</td>\n",
       "      <td>0.427865</td>\n",
       "    </tr>\n",
       "    <tr>\n",
       "      <th>3</th>\n",
       "      <td>Bag of Words</td>\n",
       "      <td>Naïve Bayes</td>\n",
       "      <td>{'clf__alpha': 1.0, 'vect__max_df': 0.3}</td>\n",
       "      <td>0.407131</td>\n",
       "    </tr>\n",
       "  </tbody>\n",
       "</table>\n",
       "</div>"
      ]
     },
     "execution_count": 27,
     "metadata": {},
     "output_type": "execute_result"
    }
   ],
   "source": [
    "pd.DataFrame(results,columns=['extraction method','machine learning method','parameters', 'accuracy'])"
   ]
  },
  {
   "cell_type": "markdown",
   "metadata": {},
   "source": [
    "As we can see, TF-IDF and SVM gives the best results using alpha=0.0001, max_df=1"
   ]
  },
  {
   "cell_type": "markdown",
   "metadata": {},
   "source": [
    "improve the classification:\n",
    "* We will use TF-IDF and SVM - because it has the best accuracy\n",
    "* We will add common words to stop words: 'stui','infect','use','patient','case'\n",
    "* We will use lemmatize"
   ]
  },
  {
   "cell_type": "code",
   "execution_count": 28,
   "metadata": {
    "collapsed": true
   },
   "outputs": [],
   "source": [
    "from nltk.stem import WordNetLemmatizer\n",
    "lemmatizer = WordNetLemmatizer()\n",
    "\n",
    "\n",
    "def cleanTextWithLema(text):\n",
    "    # tokenize\n",
    "    tokenized = word_tokenize(text)\n",
    "    # remove stop words\n",
    "    filtered_sentence = [w for w in tokenized if not w in stopWords]\n",
    "    filtered_sentence = [w for w in filtered_sentence if len(w)>1]\n",
    "    # stemming\n",
    "    ps = PorterStemmer()\n",
    "    for i in range(len(filtered_sentence)-1):\n",
    "        try:\n",
    "            filtered_sentence[i] = ps.stem(filtered_sentence[i])\n",
    "            filtered_sentence[i]= lemmatizer.lemmatize(filtered_sentence[i])\n",
    "        except Exception as inst:\n",
    "            filtered_sentence[i]=filtered_sentence[i]\n",
    "    filtered_sentence = [w for w in filtered_sentence if not w in stopWords]\n",
    "    filtered_sentence = [w for w in filtered_sentence if len(w)>1]\n",
    "    return \" \".join(filtered_sentence)"
   ]
  },
  {
   "cell_type": "code",
   "execution_count": 30,
   "metadata": {
    "collapsed": true
   },
   "outputs": [],
   "source": [
    "# pre process with more stop words\n",
    "stopWords+=['diseas','case','stui','infect','use','patient']\n",
    "trainFiles=[]\n",
    "testFiles=[]\n",
    "# for table\n",
    "Category=[]\n",
    "FileName=[]\n",
    "Path=[]\n",
    "trainInfo=[] #[fileName,cleanText,class\n",
    "testInfo=[]\n",
    "# get train and test dirs\n",
    "for dir in trainDirs:\n",
    "    for file in os.listdir(dirpath+'\\\\training\\\\'+dir):\n",
    "        trainFiles.append(file)\n",
    "        Category.append(dir)\n",
    "        FileName.append(file)\n",
    "        Path.append(dirpath+'\\\\training\\\\'+dir+'\\\\'+file)\n",
    "        # Open a file: fileReader\n",
    "        fileReader = open(dirpath+'\\\\training\\\\'+dir+'\\\\'+file,mode='r')\n",
    "        # read all lines at once\n",
    "        text = fileReader.read().lower()\n",
    "        # close the file\n",
    "        fileReader.close()\n",
    "\n",
    "        cleanedText=cleanTextWithLema(text)\n",
    "        trainInfo.append([file,cleanedText,dir,'training'])\n",
    "\n",
    "for dir in testDirs:\n",
    "    for file in os.listdir(dirpath+'\\\\test\\\\'+dir):\n",
    "        testFiles.append(file)\n",
    "        Category.append(dir)\n",
    "        FileName.append(file)\n",
    "        Path.append(dirpath+'\\\\test\\\\'+dir+'\\\\'+file)\n",
    "        # Open a file: fileReader\n",
    "        fileReader = open(dirpath+'\\\\test\\\\'+dir+'\\\\'+file,mode='r')\n",
    "        # read all lines at once\n",
    "        text = fileReader.read().lower()\n",
    "        # close the file\n",
    "        fileReader.close()\n",
    "\n",
    "        cleanedText = cleanTextWithLema(text)\n",
    "        testInfo.append([file, cleanedText, dir, 'test'])"
   ]
  },
  {
   "cell_type": "code",
   "execution_count": 31,
   "metadata": {
    "collapsed": false
   },
   "outputs": [
    {
     "name": "stderr",
     "output_type": "stream",
     "text": [
      "C:\\Program Files (x86)\\Microsoft Visual Studio\\Shared\\Anaconda3_86\\lib\\site-packages\\sklearn\\linear_model\\stochastic_gradient.py:84: FutureWarning: max_iter and tol parameters have been added in <class 'sklearn.linear_model.stochastic_gradient.SGDClassifier'> in 0.19. If both are left unset, they default to max_iter=5 and tol=None. If tol is not None, max_iter defaults to max_iter=1000. From 0.21, default max_iter will be 1000, and default tol will be 1e-3.\n  \"and default tol will be 1e-3.\" % type(self), FutureWarning)\n"
     ]
    },
    {
     "data": {
      "text/html": [
       "<div>\n",
       "<style>\n",
       "    .dataframe thead tr:only-child th {\n",
       "        text-align: right;\n",
       "    }\n",
       "\n",
       "    .dataframe thead th {\n",
       "        text-align: left;\n",
       "    }\n",
       "\n",
       "    .dataframe tbody tr th {\n",
       "        vertical-align: top;\n",
       "    }\n",
       "</style>\n",
       "<table border=\"1\" class=\"dataframe\">\n",
       "  <thead>\n",
       "    <tr style=\"text-align: right;\">\n",
       "      <th></th>\n",
       "      <th>extraction method</th>\n",
       "      <th>machine learning method</th>\n",
       "      <th>parameters</th>\n",
       "      <th>accuracy</th>\n",
       "    </tr>\n",
       "  </thead>\n",
       "  <tbody>\n",
       "    <tr>\n",
       "      <th>0</th>\n",
       "      <td>TF-IDF</td>\n",
       "      <td>SVM</td>\n",
       "      <td>{'clf__alpha': 0.0001, 'vect__max_df': 0.3}</td>\n",
       "      <td>0.441608</td>\n",
       "    </tr>\n",
       "  </tbody>\n",
       "</table>\n",
       "</div>"
      ],
      "text/plain": [
       "<div>\n",
       "<style>\n",
       "    .dataframe thead tr:only-child th {\n",
       "        text-align: right;\n",
       "    }\n",
       "\n",
       "    .dataframe thead th {\n",
       "        text-align: left;\n",
       "    }\n",
       "\n",
       "    .dataframe tbody tr th {\n",
       "        vertical-align: top;\n",
       "    }\n",
       "</style>\n",
       "<table border=\"1\" class=\"dataframe\">\n",
       "  <thead>\n",
       "    <tr style=\"text-align: right;\">\n",
       "      <th></th>\n",
       "      <th>extraction method</th>\n",
       "      <th>machine learning method</th>\n",
       "      <th>parameters</th>\n",
       "      <th>accuracy</th>\n",
       "    </tr>\n",
       "  </thead>\n",
       "  <tbody>\n",
       "    <tr>\n",
       "      <th>0</th>\n",
       "      <td>TF-IDF</td>\n",
       "      <td>SVM</td>\n",
       "      <td>{'clf__alpha': 0.0001, 'vect__max_df': 0.3}</td>\n",
       "      <td>0.441608</td>\n",
       "    </tr>\n",
       "  </tbody>\n",
       "</table>\n",
       "</div>"
      ]
     },
     "execution_count": 31,
     "metadata": {},
     "output_type": "execute_result"
    }
   ],
   "source": [
    "parameters = {'vect__max_df': (0.3,0.4,0.5,0.6,0.7,0.75, 1.0),'clf__alpha': (0.0001, 0.01,1.0)}\n",
    "trainSetText=train['cleanText'].tolist()\n",
    "trainSetClass=train['class'].tolist()\n",
    "test=pd.DataFrame(testInfo, columns=['fileName','cleanText','class','group'])\n",
    "testSetText=test['cleanText'].tolist()\n",
    "testSetClass=test['class'].tolist()\n",
    "#TF-IDF & SVM\n",
    "results2=[]\n",
    "ans = classify(TfidfVectorizer(sublinear_tf=True,stop_words='english'),SGDClassifier(),parameters)\n",
    "accuracy = ans[0]\n",
    "params = ans[1]\n",
    "results2.append(['TF-IDF' , 'SVM', params,accuracy])\n",
    "\n",
    "newAcc=pd.DataFrame(results2,columns=['extraction method','machine learning method','parameters', 'accuracy'])\n",
    "newAcc"
   ]
  },
  {
   "cell_type": "code",
   "execution_count": null,
   "metadata": {
    "collapsed": true
   },
   "outputs": [],
   "source": [
    "\n",
    "As we can see, there is no significant change after improving the re-proccess.\n",
    "in conclution - the best accuracy is when using: TF-IDF, SVM, expended stopWords, lemmatize, maxDf=0.3 pha=0.0001\n",
    "\n",
    "the accuracy - 0.442708"
   ]
  }
 ],
 "metadata": {
  "kernelspec": {
   "display_name": "Python 3",
   "language": "python",
   "name": "python3"
  },
  "language_info": {
   "codemirror_mode": {
    "name": "ipython",
    "version": 3
   },
   "file_extension": ".py",
   "mimetype": "text/x-python",
   "name": "python",
   "nbconvert_exporter": "python",
   "pygments_lexer": "ipython3",
   "version": "3.6.0"
  }
 },
 "nbformat": 4,
 "nbformat_minor": 1
}
